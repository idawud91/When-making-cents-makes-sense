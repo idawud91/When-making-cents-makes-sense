{
 "cells": [
  {
   "cell_type": "markdown",
   "id": "4addbb23",
   "metadata": {},
   "source": [
    "# Getting Started"
   ]
  },
  {
   "cell_type": "markdown",
   "id": "69df2429",
   "metadata": {},
   "source": [
    "Having administered employee surveys in large organizations (with some yielding 30k+ responses), one common issue I see is employees' concerns about pay. Items asking about pay satisfaction are almost always the lowest scoring ones, which kind of makes sense. You're essentially asking folks if they feel like they should earn more money. Not too many people would disagree there.\n",
    "On top of this, companies are always hesitant to really address these concerns. I get it, it's a touchy subject. And while I believe companies should aim to pay fair wages, they can't give everyone a raise after every survey.\n",
    "As a middle ground, I'm interested in seeing if an employee's perception of adequate compensation is influenced by their understanding of how that pay is calculated. In other words, when employees understand the factors that determine their pay, are they happier than those who see it as an arbitrary number pulled out of the air? To answer this, I designed a survey asking employed participants to share the extent to which they're satisfied with their pay and how well they understand its determinants.\n",
    "In the cells below, I walk through the steps of cleaning the raw data file as well as the actual analyses. I use the markdown text to explain my general thought process as I go through the analysis, while the commented text in the cells is more granular and explains what specific lines of code do."
   ]
  },
  {
   "cell_type": "code",
   "execution_count": 1,
   "id": "4739a6d9",
   "metadata": {},
   "outputs": [],
   "source": [
    "import pandas as pd"
   ]
  },
  {
   "cell_type": "code",
   "execution_count": 2,
   "id": "400eb5a8",
   "metadata": {},
   "outputs": [],
   "source": [
    "source = r\"C:\\Users\\Ian\\Desktop\\data.csv\"\n",
    "data = pd.read_csv(source)\n"
   ]
  },
  {
   "cell_type": "code",
   "execution_count": 3,
   "id": "23048ea5",
   "metadata": {},
   "outputs": [
    {
     "data": {
      "text/html": [
       "<div>\n",
       "<style scoped>\n",
       "    .dataframe tbody tr th:only-of-type {\n",
       "        vertical-align: middle;\n",
       "    }\n",
       "\n",
       "    .dataframe tbody tr th {\n",
       "        vertical-align: top;\n",
       "    }\n",
       "\n",
       "    .dataframe thead th {\n",
       "        text-align: right;\n",
       "    }\n",
       "</style>\n",
       "<table border=\"1\" class=\"dataframe\">\n",
       "  <thead>\n",
       "    <tr style=\"text-align: right;\">\n",
       "      <th></th>\n",
       "      <th>Unnamed: 0</th>\n",
       "      <th>Submission ID</th>\n",
       "      <th>Status</th>\n",
       "      <th>Current step</th>\n",
       "      <th>I have a best friend at work.</th>\n",
       "      <th>I'm paid fairly for the work that I do.</th>\n",
       "      <th>I would recommend my company as a great place to work.</th>\n",
       "      <th>I understand how my pay is determined.</th>\n",
       "      <th>Would you mind sharing your base pay? (Optional)</th>\n",
       "      <th>Errors</th>\n",
       "    </tr>\n",
       "  </thead>\n",
       "  <tbody>\n",
       "    <tr>\n",
       "      <th>0</th>\n",
       "      <td>0</td>\n",
       "      <td>aa19a064-b219-4c49-9246-5536bd95283b</td>\n",
       "      <td>finished</td>\n",
       "      <td>Ending 2</td>\n",
       "      <td>Strongly disagree</td>\n",
       "      <td>Neutral</td>\n",
       "      <td>Neutral</td>\n",
       "      <td>Strongly agree</td>\n",
       "      <td>NaN</td>\n",
       "      <td>NaN</td>\n",
       "    </tr>\n",
       "    <tr>\n",
       "      <th>1</th>\n",
       "      <td>1</td>\n",
       "      <td>53d971fb-870b-4f59-a09a-0352dd6140c9</td>\n",
       "      <td>finished</td>\n",
       "      <td>Ending 2</td>\n",
       "      <td>Agree</td>\n",
       "      <td>Disagree</td>\n",
       "      <td>Neutral</td>\n",
       "      <td>Disagree</td>\n",
       "      <td>NaN</td>\n",
       "      <td>NaN</td>\n",
       "    </tr>\n",
       "    <tr>\n",
       "      <th>2</th>\n",
       "      <td>2</td>\n",
       "      <td>8cfa687f-80ab-414e-bee2-9749a45a3159</td>\n",
       "      <td>finished</td>\n",
       "      <td>Ending 2</td>\n",
       "      <td>Strongly disagree</td>\n",
       "      <td>Disagree</td>\n",
       "      <td>Neutral</td>\n",
       "      <td>Strongly disagree</td>\n",
       "      <td>68000</td>\n",
       "      <td>NaN</td>\n",
       "    </tr>\n",
       "    <tr>\n",
       "      <th>3</th>\n",
       "      <td>3</td>\n",
       "      <td>5c5eef16-c228-4fe0-a679-bf56ceede5e1</td>\n",
       "      <td>finished</td>\n",
       "      <td>Ending 2</td>\n",
       "      <td>Agree</td>\n",
       "      <td>Neutral</td>\n",
       "      <td>Neutral</td>\n",
       "      <td>Neutral</td>\n",
       "      <td>57600</td>\n",
       "      <td>NaN</td>\n",
       "    </tr>\n",
       "    <tr>\n",
       "      <th>4</th>\n",
       "      <td>4</td>\n",
       "      <td>0cb1389f-e16f-43a8-a2c8-e861f3b2992f</td>\n",
       "      <td>finished</td>\n",
       "      <td>Ending 2</td>\n",
       "      <td>Strongly disagree</td>\n",
       "      <td>Agree</td>\n",
       "      <td>Neutral</td>\n",
       "      <td>Strongly agree</td>\n",
       "      <td>NaN</td>\n",
       "      <td>NaN</td>\n",
       "    </tr>\n",
       "  </tbody>\n",
       "</table>\n",
       "</div>"
      ],
      "text/plain": [
       "   Unnamed: 0                         Submission ID    Status Current step  \\\n",
       "0           0  aa19a064-b219-4c49-9246-5536bd95283b  finished     Ending 2   \n",
       "1           1  53d971fb-870b-4f59-a09a-0352dd6140c9  finished     Ending 2   \n",
       "2           2  8cfa687f-80ab-414e-bee2-9749a45a3159  finished     Ending 2   \n",
       "3           3  5c5eef16-c228-4fe0-a679-bf56ceede5e1  finished     Ending 2   \n",
       "4           4  0cb1389f-e16f-43a8-a2c8-e861f3b2992f  finished     Ending 2   \n",
       "\n",
       "  I have a best friend at work. I'm paid fairly for the work that I do.  \\\n",
       "0             Strongly disagree                                 Neutral   \n",
       "1                         Agree                                Disagree   \n",
       "2             Strongly disagree                                Disagree   \n",
       "3                         Agree                                 Neutral   \n",
       "4             Strongly disagree                                   Agree   \n",
       "\n",
       "  I would recommend my company as a great place to work.  \\\n",
       "0                                            Neutral       \n",
       "1                                            Neutral       \n",
       "2                                            Neutral       \n",
       "3                                            Neutral       \n",
       "4                                            Neutral       \n",
       "\n",
       "  I understand how my pay is determined.  \\\n",
       "0                         Strongly agree   \n",
       "1                               Disagree   \n",
       "2                      Strongly disagree   \n",
       "3                                Neutral   \n",
       "4                         Strongly agree   \n",
       "\n",
       "  Would you mind sharing your base pay? (Optional)  Errors  \n",
       "0                                              NaN     NaN  \n",
       "1                                              NaN     NaN  \n",
       "2                                            68000     NaN  \n",
       "3                                            57600     NaN  \n",
       "4                                              NaN     NaN  "
      ]
     },
     "execution_count": 3,
     "metadata": {},
     "output_type": "execute_result"
    }
   ],
   "source": [
    "data.head()"
   ]
  },
  {
   "cell_type": "code",
   "execution_count": 4,
   "id": "02c2b18c",
   "metadata": {},
   "outputs": [],
   "source": [
    "data.drop(data.columns[[0, 1,2,3,9]], axis =1, inplace =True) #Dropping unecessary columns e.g., \"Submission ID\""
   ]
  },
  {
   "cell_type": "code",
   "execution_count": 5,
   "id": "3ab7ef0b",
   "metadata": {},
   "outputs": [],
   "source": [
    "recode = {\"Strongly agree\":5,              # Writing the schema I want to use to recode the agreement scale responses. \n",
    "         \"Agree\": 4,\n",
    "         \"Neutral\":3,\n",
    "         \"Disagree\":2,\n",
    "         \"Strongly disagree\":1}"
   ]
  },
  {
   "cell_type": "code",
   "execution_count": 6,
   "id": "f4358ef3",
   "metadata": {},
   "outputs": [],
   "source": [
    "for i in range(0,4):                 # Applying the schema: iterating through each column to change the string type to numeric.\n",
    "    data.iloc[:,i] = data.iloc[:,i].replace(recode)"
   ]
  },
  {
   "cell_type": "markdown",
   "id": "d3f43c53",
   "metadata": {},
   "source": [
    "Much better. The column headers below represent each question on my survey. This analysis focuses on just two questions: \"I'm paid fairly for the work that I do.\" and \"I understand how my pay is determined.\" (The \"Best Friend...\" and \"Recommend..\" items are for separate projects I'm interested in.)\n",
    "\n",
    "Finally, the question about pay was an optional one I wanted to include as part of my analysis. Unfortunately, too many of the survey participants opted out of that one. "
   ]
  },
  {
   "cell_type": "code",
   "execution_count": 7,
   "id": "9a14d287",
   "metadata": {},
   "outputs": [
    {
     "data": {
      "text/html": [
       "<div>\n",
       "<style scoped>\n",
       "    .dataframe tbody tr th:only-of-type {\n",
       "        vertical-align: middle;\n",
       "    }\n",
       "\n",
       "    .dataframe tbody tr th {\n",
       "        vertical-align: top;\n",
       "    }\n",
       "\n",
       "    .dataframe thead th {\n",
       "        text-align: right;\n",
       "    }\n",
       "</style>\n",
       "<table border=\"1\" class=\"dataframe\">\n",
       "  <thead>\n",
       "    <tr style=\"text-align: right;\">\n",
       "      <th></th>\n",
       "      <th>I have a best friend at work.</th>\n",
       "      <th>I'm paid fairly for the work that I do.</th>\n",
       "      <th>I would recommend my company as a great place to work.</th>\n",
       "      <th>I understand how my pay is determined.</th>\n",
       "      <th>Would you mind sharing your base pay? (Optional)</th>\n",
       "    </tr>\n",
       "  </thead>\n",
       "  <tbody>\n",
       "    <tr>\n",
       "      <th>0</th>\n",
       "      <td>1</td>\n",
       "      <td>3</td>\n",
       "      <td>3</td>\n",
       "      <td>5</td>\n",
       "      <td>NaN</td>\n",
       "    </tr>\n",
       "    <tr>\n",
       "      <th>1</th>\n",
       "      <td>4</td>\n",
       "      <td>2</td>\n",
       "      <td>3</td>\n",
       "      <td>2</td>\n",
       "      <td>NaN</td>\n",
       "    </tr>\n",
       "    <tr>\n",
       "      <th>2</th>\n",
       "      <td>1</td>\n",
       "      <td>2</td>\n",
       "      <td>3</td>\n",
       "      <td>1</td>\n",
       "      <td>68000</td>\n",
       "    </tr>\n",
       "    <tr>\n",
       "      <th>3</th>\n",
       "      <td>4</td>\n",
       "      <td>3</td>\n",
       "      <td>3</td>\n",
       "      <td>3</td>\n",
       "      <td>57600</td>\n",
       "    </tr>\n",
       "    <tr>\n",
       "      <th>4</th>\n",
       "      <td>1</td>\n",
       "      <td>4</td>\n",
       "      <td>3</td>\n",
       "      <td>5</td>\n",
       "      <td>NaN</td>\n",
       "    </tr>\n",
       "  </tbody>\n",
       "</table>\n",
       "</div>"
      ],
      "text/plain": [
       "  I have a best friend at work. I'm paid fairly for the work that I do.  \\\n",
       "0                             1                                       3   \n",
       "1                             4                                       2   \n",
       "2                             1                                       2   \n",
       "3                             4                                       3   \n",
       "4                             1                                       4   \n",
       "\n",
       "  I would recommend my company as a great place to work.  \\\n",
       "0                                                  3       \n",
       "1                                                  3       \n",
       "2                                                  3       \n",
       "3                                                  3       \n",
       "4                                                  3       \n",
       "\n",
       "  I understand how my pay is determined.  \\\n",
       "0                                      5   \n",
       "1                                      2   \n",
       "2                                      1   \n",
       "3                                      3   \n",
       "4                                      5   \n",
       "\n",
       "  Would you mind sharing your base pay? (Optional)  \n",
       "0                                              NaN  \n",
       "1                                              NaN  \n",
       "2                                            68000  \n",
       "3                                            57600  \n",
       "4                                              NaN  "
      ]
     },
     "execution_count": 7,
     "metadata": {},
     "output_type": "execute_result"
    }
   ],
   "source": [
    "data.head()"
   ]
  },
  {
   "cell_type": "code",
   "execution_count": 8,
   "id": "148e4655",
   "metadata": {},
   "outputs": [
    {
     "data": {
      "text/plain": [
       "I have a best friend at work.                              0\n",
       "I'm paid fairly for the work that I do.                    0\n",
       "I would recommend my company as a great place to work.     0\n",
       "I understand how my pay is determined.                     0\n",
       "Would you mind sharing your base pay? (Optional)          86\n",
       "dtype: int64"
      ]
     },
     "execution_count": 8,
     "metadata": {},
     "output_type": "execute_result"
    }
   ],
   "source": [
    "# Checking for missing values \n",
    "data.isna().sum()"
   ]
  },
  {
   "cell_type": "code",
   "execution_count": 9,
   "id": "bfa2d44b",
   "metadata": {},
   "outputs": [
    {
     "data": {
      "text/plain": [
       "162"
      ]
     },
     "execution_count": 9,
     "metadata": {},
     "output_type": "execute_result"
    }
   ],
   "source": [
    "data.shape[0] #Counting the number of rows in the data frame, i.e., the number of responses I recieved. "
   ]
  },
  {
   "cell_type": "markdown",
   "id": "54f5aabd",
   "metadata": {},
   "source": [
    "As you can see in the cell above, I received 162 responses, which is a little low. I was initially looking for about 90-100 responses per group, but I can work with this.\n",
    "\n",
    "There will be two analyses for this:\n",
    "\n",
    "1. I'll calculate the risk ratio to understand the likelihood that employees will be satisfied with their pay, given  their understanding of it.\n",
    "2. I'll compare the two groups (Understand pay, Don't understand pay)"
   ]
  },
  {
   "cell_type": "markdown",
   "id": "6e236948",
   "metadata": {},
   "source": [
    "# Risk Ratio"
   ]
  },
  {
   "cell_type": "markdown",
   "id": "300da3d8",
   "metadata": {},
   "source": [
    "To calculate the risk ratio, I'll break the responses up into 4 groups: High/low pay satisfaction and high/low pay understanding using the \"Neutral\" response as an dividing point:\n",
    "\n",
    "\n",
    "\n",
    "X1 = Number of employees who understand their pay and are happy with it.\n",
    "\n",
    "X2 = Number of employees who understand their pay but are not happy with it.\n",
    "\n",
    "X3 = Number of employees who don’t understand their pay but are happy with it.\n",
    "\n",
    "X4 = Number of employees who don’t understand their pay and are not happy with it."
   ]
  },
  {
   "cell_type": "code",
   "execution_count": 10,
   "id": "c339be7b",
   "metadata": {},
   "outputs": [],
   "source": [
    "x1 = data[(data[\"I'm paid fairly for the work that I do.\"]>3) & (data[\"I understand how my pay is determined.\"]> 3)].shape[0]\n",
    "x2 = data[(data[\"I'm paid fairly for the work that I do.\"]<3) & (data[\"I understand how my pay is determined.\"]> 3)].shape[0]\n",
    "x3 = data[(data[\"I'm paid fairly for the work that I do.\"]>3) & (data[\"I understand how my pay is determined.\"]< 3)].shape[0]\n",
    "x4 = data[(data[\"I'm paid fairly for the work that I do.\"]<3) & (data[\"I understand how my pay is determined.\"]< 3)].shape[0]"
   ]
  },
  {
   "cell_type": "markdown",
   "id": "2925179c",
   "metadata": {},
   "source": [
    "Now that I have the groups broken out, I can begin crunching some numbers. I'll start off looking at a) the probability that someone is happy with their pay, given that they understand it and b) the probability that someone is happy with their pay, given a lack of understanding. "
   ]
  },
  {
   "cell_type": "markdown",
   "id": "6269461e",
   "metadata": {},
   "source": [
    "# P(Happy with Pay | Understand Pay)\n"
   ]
  },
  {
   "cell_type": "code",
   "execution_count": 11,
   "id": "29f18be7",
   "metadata": {},
   "outputs": [
    {
     "name": "stdout",
     "output_type": "stream",
     "text": [
      "P(Happy with Pay|Understand Pay) = 0.73\n"
     ]
    }
   ],
   "source": [
    "# This is looking at the percentage of respondents who are happy with their pay, \n",
    "# out of everyone who reported understanding it. \n",
    "r1 = x1/(x1+x2)\n",
    "print(\"P(Happy with Pay|Understand Pay) =\", round(r1, 2))"
   ]
  },
  {
   "cell_type": "markdown",
   "id": "77e9f4f0",
   "metadata": {},
   "source": [
    "# P(Happy with Pay | Don't Understand Pay) "
   ]
  },
  {
   "cell_type": "code",
   "execution_count": 12,
   "id": "aa80269b",
   "metadata": {},
   "outputs": [
    {
     "name": "stdout",
     "output_type": "stream",
     "text": [
      "P(Happy with Pay|Don't Understand Pay) = 0.35\n"
     ]
    }
   ],
   "source": [
    "# This is calculating how many respondents are happy with their \n",
    "# pay out of everyone who reported a lack of understanding. \n",
    "r2 = x3/(x3+x4)\n",
    "print(\"P(Happy with Pay|Don't Understand Pay) =\", round(r2, 2)) "
   ]
  },
  {
   "cell_type": "markdown",
   "id": "296b9a24",
   "metadata": {},
   "source": [
    "So, we can see that of those who understand their pay, 73% are satisfied with it, while only 35% of those who don't understand their pay are satisfied. "
   ]
  },
  {
   "cell_type": "code",
   "execution_count": 13,
   "id": "55854391",
   "metadata": {},
   "outputs": [
    {
     "name": "stdout",
     "output_type": "stream",
     "text": [
      "RR =  2.06\n"
     ]
    }
   ],
   "source": [
    "RR = r1/r2\n",
    "print(\"RR = \", round(RR,2))"
   ]
  },
  {
   "cell_type": "markdown",
   "id": "40c612c8",
   "metadata": {},
   "source": [
    "Finally, I used some simple division to calculate the final Risk Ratio: 2.06. This means that employees who understand their pay are more than twice as likely to be satisfied with it. "
   ]
  },
  {
   "cell_type": "markdown",
   "id": "1d1165ed",
   "metadata": {},
   "source": [
    "# Calulating Confidence Intervals"
   ]
  },
  {
   "cell_type": "markdown",
   "id": "99913843",
   "metadata": {},
   "source": [
    "As a way to check these results, I'm going to calculate the confidence intervals (CI) to find a range of true possible values. Simply put: this data is based on a select group of people who took the survey. The CIs tell give us a range of values that would, in theory, include the true risk ratio if I surveyed every employed person on the planet."
   ]
  },
  {
   "cell_type": "code",
   "execution_count": 14,
   "id": "5847cf80",
   "metadata": {},
   "outputs": [],
   "source": [
    "import math"
   ]
  },
  {
   "cell_type": "code",
   "execution_count": 15,
   "id": "817fa9c4",
   "metadata": {},
   "outputs": [],
   "source": [
    "SE = math.sqrt((1/x1) - (1/(x1 + x2)) + (1/x3) - (1/(x3 + x4))) # Calculating the standard error"
   ]
  },
  {
   "cell_type": "code",
   "execution_count": 16,
   "id": "2d378b82",
   "metadata": {},
   "outputs": [],
   "source": [
    "log_RR = math.log(RR) # Calculating the log of the risk ratio"
   ]
  },
  {
   "cell_type": "code",
   "execution_count": 17,
   "id": "65a10230",
   "metadata": {},
   "outputs": [
    {
     "name": "stdout",
     "output_type": "stream",
     "text": [
      "CI Lower: 1.25\n",
      "CI Upper: 3.39\n"
     ]
    }
   ],
   "source": [
    "z = 1.96 # Critical value for 95% confidence\n",
    "\n",
    "CI_lower = math.exp(log_RR - z * SE) #Lower bound\n",
    "CI_upper = math.exp(log_RR + z * SE) #upper bound\n",
    "print(\"CI Lower:\", round(CI_lower, 2))\n",
    "print(\"CI Upper:\", round(CI_upper, 2))"
   ]
  },
  {
   "cell_type": "markdown",
   "id": "df2b66d2",
   "metadata": {},
   "source": [
    "# Results"
   ]
  },
  {
   "cell_type": "markdown",
   "id": "eb792bcc",
   "metadata": {},
   "source": [
    "The CIs suggest a statistically significant result. If 1 had been included in the range, that would've suggested otherwise because 1 as a possible true value would mean that there's no actual difference between groups, and that the results I obtained could've been coincidental. "
   ]
  },
  {
   "cell_type": "code",
   "execution_count": 18,
   "id": "ce3c195f",
   "metadata": {},
   "outputs": [
    {
     "data": {
      "image/png": "[encoded data removed]",
      "text/plain": [
       "<Figure size 640x480 with 1 Axes>"
      ]
     },
     "metadata": {},
     "output_type": "display_data"
    }
   ],
   "source": [
    "import matplotlib.pyplot as plt\n",
    "\n",
    "labels = ['Understands Pay', \"Doesn't Understand Pay\"]\n",
    "satisfied = [x1, x3]\n",
    "not_satisfied = [x2, x4]\n",
    "\n",
    "# Stacked bar chart\n",
    "fig, ax = plt.subplots()\n",
    "\n",
    "ax.bar(labels, satisfied, label='Satisfied', color='green')\n",
    "ax.bar(labels, not_satisfied, bottom=satisfied, label='Not Satisfied', color='gray')\n",
    "\n",
    "ax.set_ylabel('Number of REspondents')\n",
    "ax.set_title('Pay Understanding vs. Pay Satisfaction')\n",
    "ax.legend()\n",
    "\n",
    "plt.tight_layout()\n",
    "plt.show()"
   ]
  },
  {
   "cell_type": "markdown",
   "id": "aa3371f7",
   "metadata": {},
   "source": [
    "# Additional Testing"
   ]
  },
  {
   "cell_type": "markdown",
   "id": "f11a6f66",
   "metadata": {},
   "source": [
    "As a supplement to the risk ratio, I want to look at some figures comparing central tendency, which is a great way to illustrate the outcome and show the extent of the gap between the two groups. To start, I'll need to assess the normality of this data, which will tell me what kind of statistical tests would make the most sense here.    "
   ]
  },
  {
   "cell_type": "code",
   "execution_count": 19,
   "id": "a7ef8144",
   "metadata": {},
   "outputs": [],
   "source": [
    "sat_understood = data[(data[\"I understand how my pay is determined.\"]> 3)].iloc[:,1] #Isolating pay satisfaction responses grouped by pay understanding. \n",
    "sat_not_understood = data[(data[\"I understand how my pay is determined.\"]< 3)].iloc[:,1]\n"
   ]
  },
  {
   "cell_type": "code",
   "execution_count": 20,
   "id": "8d3c5a24",
   "metadata": {},
   "outputs": [
    {
     "name": "stdout",
     "output_type": "stream",
     "text": [
      "p-value =  0.0 Test Statistic:  0.89\n",
      "p-value =  0.0 Test Statistic:  0.9\n"
     ]
    }
   ],
   "source": [
    "from scipy.stats import shapiro\n",
    "\n",
    "stat1, p1 = shapiro(sat_understood) #Test for normality \n",
    "stat2, p2= shapiro(sat_not_understood)\n",
    "print(\"p-value = \", round(p1,2), \"Test Statistic: \", round(stat1, 2))\n",
    "print(\"p-value = \", round(p2,2), \"Test Statistic: \", round(stat2, 2))"
   ]
  },
  {
   "cell_type": "code",
   "execution_count": 21,
   "id": "56b60e90",
   "metadata": {},
   "outputs": [],
   "source": [
    "import statsmodels.api as sm\n",
    "import numpy as np"
   ]
  },
  {
   "cell_type": "code",
   "execution_count": 22,
   "id": "36883ea7",
   "metadata": {},
   "outputs": [
    {
     "data": {
      "image/png": "[encoded data removed]",
      "text/plain": [
       "<Figure size 640x480 with 1 Axes>"
      ]
     },
     "metadata": {},
     "output_type": "display_data"
    }
   ],
   "source": [
    "fig = sm.qqplot(sat_understood, line='45') # QQ Plots for a visual test of normality. \n",
    "plt.title('Q-Q Plot 1')\n",
    "plt.show()"
   ]
  },
  {
   "cell_type": "code",
   "execution_count": 23,
   "id": "eb8b964f",
   "metadata": {},
   "outputs": [
    {
     "data": {
      "image/png": "[encoded data removed]",
      "text/plain": [
       "<Figure size 640x480 with 1 Axes>"
      ]
     },
     "metadata": {},
     "output_type": "display_data"
    }
   ],
   "source": [
    "fig = sm.qqplot(sat_not_understood, line='45') \n",
    "plt.title('Q-Q Plot 2')\n",
    "plt.show()"
   ]
  },
  {
   "cell_type": "markdown",
   "id": "d4e1bda2",
   "metadata": {},
   "source": [
    "Looking at the Shapiro-Wilks test for both groups, we can reject the null hypothesis that either group comes from a normal distribution. The QQ Plots reinforce this - we can see that the quantiles are far from lining up with a theoretical but normal distribution.\n",
    "\n",
    "The results point to the need for a non-parametric test. Given that these are independent, non-normally distributed groups using ordinal data, a Mann-Whitney U test would be appropriate. "
   ]
  },
  {
   "cell_type": "code",
   "execution_count": 25,
   "id": "98a3566f",
   "metadata": {},
   "outputs": [],
   "source": [
    "sat_understood.astype(float).mean().round(2) # I received an error when I intially tried to run the test. I had to convert the data from integers to floats.\n",
    "sat_understood = pd.to_numeric(sat_understood, errors='coerce')\n",
    "\n",
    "sat_not_understood.astype(float).mean().round(2)\n",
    "sat_not_understood = pd.to_numeric(sat_not_understood, errors='coerce')"
   ]
  },
  {
   "cell_type": "code",
   "execution_count": 26,
   "id": "d988ea36",
   "metadata": {},
   "outputs": [],
   "source": [
    "from scipy.stats import mannwhitneyu\n",
    "stat, p = mannwhitneyu(sat_understood, sat_not_understood, alternative='two-sided')"
   ]
  },
  {
   "cell_type": "code",
   "execution_count": 27,
   "id": "14237169",
   "metadata": {},
   "outputs": [
    {
     "name": "stdout",
     "output_type": "stream",
     "text": [
      "U statistic: 2514.0\n",
      "p-value: 0.0005420262948217052\n"
     ]
    }
   ],
   "source": [
    "print(\"U statistic:\",stat)\n",
    "print(\"p-value:\", p)"
   ]
  },
  {
   "cell_type": "markdown",
   "id": "00a3f477",
   "metadata": {},
   "source": [
    "Not suprisingly, the test showed a significant p-value, which supports the orginal finding. In short, there does seem to be a relationship between the degree to which an employee understands their pay and how satisfied they are with it. That being said, all this should be considered alongside a couple points:\n",
    "\n",
    "1. The number of survey participants was a bit low, which is not ideal, especially when breaking responses up into sub-groups.\n",
    "2. I collected responses from a survey exchange website, mainly used by students. This site incentivizes participating in a high volume of others' surveys to gain more credit and increase visibility of their own. This means that many of the responses could have been \"clicked through\" without much thought, or submitted by unemployed students.\n",
    "\n",
    "In any case, I believe this analysis could be easily replicated in an organizational setting to add further support to the results. More importantly, it provides an approach to addressing concerns about employee pay which, if properly executed, could improve employee satisfaction while avoiding excessive and unsustainable pay increases. "
   ]
  },
  {
   "cell_type": "code",
   "execution_count": null,
   "id": "9322a6a2",
   "metadata": {},
   "outputs": [],
   "source": []
  }
 ],
 "metadata": {
  "kernelspec": {
   "display_name": "Python 3 (ipykernel)",
   "language": "python",
   "name": "python3"
  },
  "language_info": {
   "codemirror_mode": {
    "name": "ipython",
    "version": 3
   },
   "file_extension": ".py",
   "mimetype": "text/x-python",
   "name": "python",
   "nbconvert_exporter": "python",
   "pygments_lexer": "ipython3",
   "version": "3.11.5"
  }
 },
 "nbformat": 4,
 "nbformat_minor": 5
}
